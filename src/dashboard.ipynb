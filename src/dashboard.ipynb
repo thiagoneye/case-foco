{
 "cells": [
  {
   "cell_type": "markdown",
   "id": "6719cbe6",
   "metadata": {},
   "source": [
    "### Objetivo do Desafio\n",
    "\n",
    "Utilizar a base histórica fictícia fornecida para projetar os seguintes indicadores por loja e por mês, no período de julho/2024 a junho/2025:\n",
    "\n",
    "1. Diárias Locadas\n",
    "2. Diária Média\n",
    "\n",
    "### Sobre a Base de Dados\n",
    "\n",
    "A base fornecida contém registros simulados de contratos de locação com as seguintes colunas:\n",
    "\n",
    "* id_contrato\n",
    "* data_inicio_locacao\n",
    "* duracao_locacao (dias)\n",
    "* id_loja\n",
    "* cidade, estado\n",
    "* dias_antecedencia (entre reserva e início locação)\n",
    "* categoria_veiculo\n",
    "* diaria_media\n",
    "* valor_total_locacao (diaria_media x duração_locacao)\n",
    "\n",
    "### Etapas Esperadas\n",
    "\n",
    "Você deve realizar todas as etapas do pipeline de ciência de dados:\n",
    "\n",
    "1. Análise Exploratória dos Dados: Análise do contexto e das variáveis, identificação de tendências, padrões sazonais e diferenças entre lojas, categorias e preços.\n",
    "\n",
    "2. Análise Descritiva\n",
    "\n",
    "3. Modelagem Preditiva:\n",
    "\n",
    "    * Utilize pelo menos 4 modelos diferentes para previsão dos dois indicadores (ex.: regressão linear, ARIMA/Prophet, Random Forest, XGBoost, LSTM, etc).\n",
    "    * Avalie os modelos com métricas apropriadas: RMSE, MAE, MAPE.\n",
    "    * Explique as diferenças entre os modelos e suas vantagens/desvantagens.\n",
    "    * Use validação apropriada (ex.: backtesting)\n",
    "    * Pode apresentar graficamente as curvas e intervalos de confiança.\n",
    "\n",
    "4. Interpretação e Insights: Destaque quais variáveis mais influenciam os resultados. Mostre comparações entre os modelos e recomende qual usar.\n",
    "\n",
    "### Entrega Esperada\n",
    "\n",
    "1. Notebook com todas as etapas comentadas: análise, preparação, modelagem e previsão.\n",
    "\n",
    "2. Apresentação executiva (PDF ou slides).\n"
   ]
  },
  {
   "cell_type": "code",
   "execution_count": null,
   "id": "b3f31cf2",
   "metadata": {},
   "outputs": [],
   "source": [
    "# Imports\n",
    "\n",
    "import pandas as pd\n",
    "import subprocess\n",
    "import os"
   ]
  },
  {
   "cell_type": "code",
   "execution_count": 2,
   "id": "90e5a788",
   "metadata": {},
   "outputs": [],
   "source": [
    "# Data Reading\n",
    "\n",
    "df = pd.read_excel(\"../data/Desafio Inteligência (Cientista de Dados).xlsx\")"
   ]
  },
  {
   "cell_type": "code",
   "execution_count": null,
   "id": "fdc64ba5",
   "metadata": {},
   "outputs": [],
   "source": [
    "# Data Processing\n",
    "# Limpeza dos dados\n",
    "\n",
    "df.categoria_veiculo = df.categoria_veiculo.replace(\n",
    "    {\"IntermediÃ¡rio\": \"Intermediário\", \"EconÃ´mico\": \"Econômico\"}\n",
    ")\n",
    "\n",
    "for column_name in df.columns:\n",
    "    if \"Unnamed\" in column_name:\n",
    "        df.drop(column_name, axis=1, inplace=True)\n",
    "\n",
    "# Column Names\n",
    "\n",
    "numerical_columns = [\n",
    "    \"duracao_locacao\",\n",
    "    \"dias_antecedencia\",\n",
    "    \"diaria_media\",\n",
    "    \"valor_total_locacao\",\n",
    "]\n",
    "categorical_columns = [\n",
    "    \"estado\",\n",
    "    \"cidade\",\n",
    "    \"id_loja\",\n",
    "    \"id_contrato\",\n",
    "    \"categoria_veiculo\",\n",
    "]"
   ]
  },
  {
   "cell_type": "markdown",
   "id": "7a4e3670",
   "metadata": {},
   "source": [
    "### Variáveis Relevantes\n",
    "\n",
    "* Dados Categóricos:\n",
    "    * id_loja\n",
    "    * id_contrato\n",
    "    * categoria_veiculo\n",
    "\n",
    "* Dados Temporais:\n",
    "    * data_inicio_locacao\n",
    "\n",
    "* Dados Numéricos\n",
    "    * duracao_locacao\n",
    "    * dias_antecedencia\n",
    "    * diaria_media\n",
    "    * valor_total_locacao\n",
    "\n",
    "As variáveis estado e cidade foram desconsideradas, devido a inconsistência dos dados."
   ]
  },
  {
   "cell_type": "code",
   "execution_count": null,
   "id": "2d93337c",
   "metadata": {},
   "outputs": [
    {
     "data": {
      "application/vnd.microsoft.datawrangler.viewer.v0+json": {
       "columns": [
        {
         "name": "index",
         "rawType": "int64",
         "type": "integer"
        },
        {
         "name": "id_contrato",
         "rawType": "object",
         "type": "string"
        },
        {
         "name": "data_inicio_locacao",
         "rawType": "datetime64[ns]",
         "type": "datetime"
        },
        {
         "name": "duracao_locacao",
         "rawType": "int64",
         "type": "integer"
        },
        {
         "name": "id_loja",
         "rawType": "object",
         "type": "string"
        },
        {
         "name": "dias_antecedencia",
         "rawType": "int64",
         "type": "integer"
        },
        {
         "name": "categoria_veiculo",
         "rawType": "object",
         "type": "string"
        },
        {
         "name": "diaria_media",
         "rawType": "float64",
         "type": "float"
        },
        {
         "name": "valor_total_locacao",
         "rawType": "float64",
         "type": "float"
        }
       ],
       "ref": "c0c3ef7a-ba02-4cb8-b86f-81869f5abfce",
       "rows": [
        [
         "0",
         "CTR0000001",
         "2022-01-27 00:00:00",
         "8",
         "LJ 01",
         "13",
         "Econômico",
         "91.22",
         "729.76"
        ],
        [
         "1",
         "CTR0000002",
         "2022-01-31 00:00:00",
         "9",
         "LJ 01",
         "9",
         "Intermediário",
         "78.7",
         "708.3"
        ],
        [
         "2",
         "CTR0000003",
         "2022-01-10 00:00:00",
         "7",
         "LJ 01",
         "16",
         "SUV",
         "143.14",
         "1001.98"
        ],
        [
         "3",
         "CTR0000004",
         "2022-01-28 00:00:00",
         "7",
         "LJ 01",
         "4",
         "Intermediário",
         "135.86",
         "951.02"
        ],
        [
         "4",
         "CTR0000005",
         "2022-01-28 00:00:00",
         "9",
         "LJ 01",
         "9",
         "Intermediário",
         "104.02",
         "936.18"
        ]
       ],
       "shape": {
        "columns": 8,
        "rows": 5
       }
      },
      "text/html": [
       "<div>\n",
       "<style scoped>\n",
       "    .dataframe tbody tr th:only-of-type {\n",
       "        vertical-align: middle;\n",
       "    }\n",
       "\n",
       "    .dataframe tbody tr th {\n",
       "        vertical-align: top;\n",
       "    }\n",
       "\n",
       "    .dataframe thead th {\n",
       "        text-align: right;\n",
       "    }\n",
       "</style>\n",
       "<table border=\"1\" class=\"dataframe\">\n",
       "  <thead>\n",
       "    <tr style=\"text-align: right;\">\n",
       "      <th></th>\n",
       "      <th>id_contrato</th>\n",
       "      <th>data_inicio_locacao</th>\n",
       "      <th>duracao_locacao</th>\n",
       "      <th>id_loja</th>\n",
       "      <th>dias_antecedencia</th>\n",
       "      <th>categoria_veiculo</th>\n",
       "      <th>diaria_media</th>\n",
       "      <th>valor_total_locacao</th>\n",
       "    </tr>\n",
       "  </thead>\n",
       "  <tbody>\n",
       "    <tr>\n",
       "      <th>0</th>\n",
       "      <td>CTR0000001</td>\n",
       "      <td>2022-01-27</td>\n",
       "      <td>8</td>\n",
       "      <td>LJ 01</td>\n",
       "      <td>13</td>\n",
       "      <td>Econômico</td>\n",
       "      <td>91.22</td>\n",
       "      <td>729.76</td>\n",
       "    </tr>\n",
       "    <tr>\n",
       "      <th>1</th>\n",
       "      <td>CTR0000002</td>\n",
       "      <td>2022-01-31</td>\n",
       "      <td>9</td>\n",
       "      <td>LJ 01</td>\n",
       "      <td>9</td>\n",
       "      <td>Intermediário</td>\n",
       "      <td>78.70</td>\n",
       "      <td>708.30</td>\n",
       "    </tr>\n",
       "    <tr>\n",
       "      <th>2</th>\n",
       "      <td>CTR0000003</td>\n",
       "      <td>2022-01-10</td>\n",
       "      <td>7</td>\n",
       "      <td>LJ 01</td>\n",
       "      <td>16</td>\n",
       "      <td>SUV</td>\n",
       "      <td>143.14</td>\n",
       "      <td>1001.98</td>\n",
       "    </tr>\n",
       "    <tr>\n",
       "      <th>3</th>\n",
       "      <td>CTR0000004</td>\n",
       "      <td>2022-01-28</td>\n",
       "      <td>7</td>\n",
       "      <td>LJ 01</td>\n",
       "      <td>4</td>\n",
       "      <td>Intermediário</td>\n",
       "      <td>135.86</td>\n",
       "      <td>951.02</td>\n",
       "    </tr>\n",
       "    <tr>\n",
       "      <th>4</th>\n",
       "      <td>CTR0000005</td>\n",
       "      <td>2022-01-28</td>\n",
       "      <td>9</td>\n",
       "      <td>LJ 01</td>\n",
       "      <td>9</td>\n",
       "      <td>Intermediário</td>\n",
       "      <td>104.02</td>\n",
       "      <td>936.18</td>\n",
       "    </tr>\n",
       "  </tbody>\n",
       "</table>\n",
       "</div>"
      ],
      "text/plain": [
       "  id_contrato data_inicio_locacao  duracao_locacao id_loja  dias_antecedencia  \\\n",
       "0  CTR0000001          2022-01-27                8   LJ 01                 13   \n",
       "1  CTR0000002          2022-01-31                9   LJ 01                  9   \n",
       "2  CTR0000003          2022-01-10                7   LJ 01                 16   \n",
       "3  CTR0000004          2022-01-28                7   LJ 01                  4   \n",
       "4  CTR0000005          2022-01-28                9   LJ 01                  9   \n",
       "\n",
       "  categoria_veiculo  diaria_media  valor_total_locacao  \n",
       "0         Econômico         91.22               729.76  \n",
       "1     Intermediário         78.70               708.30  \n",
       "2               SUV        143.14              1001.98  \n",
       "3     Intermediário        135.86               951.02  \n",
       "4     Intermediário        104.02               936.18  "
      ]
     },
     "metadata": {},
     "output_type": "display_data"
    }
   ],
   "source": [
    "# Export Data\n",
    "# Excluindo colunas desnecessárias para visualização de dados no dashboard\n",
    "\n",
    "df.drop([\"cidade\", \"estado\"], axis=1, inplace=True)\n",
    "df.id_loja = df.id_loja.str.replace(\"_\", \" \")\n",
    "\n",
    "display(df.head())\n",
    "\n",
    "df.to_excel(\"../data/edited_dataset.xlsx\")"
   ]
  },
  {
   "cell_type": "code",
   "execution_count": null,
   "id": "82f54650",
   "metadata": {},
   "outputs": [
    {
     "name": "stdout",
     "output_type": "stream",
     "text": [
      "Iniciando o dashboard Streamlit em http://localhost:8501\n"
     ]
    }
   ],
   "source": [
    "# Dashboard Execution\n",
    "\n",
    "\n",
    "def run_streamlit_dashboard(script_path):\n",
    "    try:\n",
    "        script_dir = os.path.dirname(script_path)\n",
    "        script_name = os.path.basename(script_path)\n",
    "\n",
    "        print(f\"Iniciando o dashboard Streamlit em http://localhost:8501\")\n",
    "\n",
    "        command = [\"streamlit\", \"run\", script_name]\n",
    "        process = subprocess.Popen(\n",
    "            command,\n",
    "            cwd=script_dir,\n",
    "            stdout=subprocess.PIPE,\n",
    "            stderr=subprocess.PIPE,\n",
    "            text=True,\n",
    "        )\n",
    "\n",
    "        return process\n",
    "\n",
    "    except FileNotFoundError:\n",
    "        print(\n",
    "            \"Erro: Streamlit não encontrado. Certifique-se de que está instalado e no PATH.\"\n",
    "        )\n",
    "    except Exception as e:\n",
    "        print(f\"Ocorreu um erro: {e}\")\n",
    "\n",
    "\n",
    "dashboard_path = \"../src/dashboard.py\"\n",
    "streamlit_process = run_streamlit_dashboard(dashboard_path)"
   ]
  },
  {
   "cell_type": "code",
   "execution_count": 6,
   "id": "c4499c11",
   "metadata": {},
   "outputs": [],
   "source": [
    "# Closes Dashboard\n",
    "\n",
    "streamlit_process.terminate()"
   ]
  }
 ],
 "metadata": {
  "kernelspec": {
   "display_name": "base",
   "language": "python",
   "name": "python3"
  },
  "language_info": {
   "codemirror_mode": {
    "name": "ipython",
    "version": 3
   },
   "file_extension": ".py",
   "mimetype": "text/x-python",
   "name": "python",
   "nbconvert_exporter": "python",
   "pygments_lexer": "ipython3",
   "version": "3.12.7"
  }
 },
 "nbformat": 4,
 "nbformat_minor": 5
}
