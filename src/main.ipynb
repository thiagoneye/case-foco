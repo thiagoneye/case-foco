{
 "cells": [
  {
   "cell_type": "markdown",
   "id": "6719cbe6",
   "metadata": {},
   "source": [
    "### Objetivo do Desafio\n",
    "\n",
    "Utilizar a base histórica fictícia fornecida para projetar os seguintes indicadores por loja e por mês, no período de julho/2025 a junho/2026:\n",
    "\n",
    "1. Diárias Locadas\n",
    "2. Diária Média\n",
    "\n",
    "### Sobre a Base de Dados\n",
    "\n",
    "A base fornecida contém registros simulados de contratos de locação com as seguintes colunas:\n",
    "\n",
    "* id_contrato\n",
    "* data_inicio_locacao\n",
    "* duracao_locacao (dias)\n",
    "* id_loja\n",
    "* cidade, estado\n",
    "* dias_antecedencia (entre reserva e início locação)\n",
    "* categoria_veiculo\n",
    "* diaria_media\n",
    "* valor_total_locacao (diaria_media x duração_locacao)\n",
    "\n",
    "### Etapas Esperadas\n",
    "\n",
    "Você deve realizar todas as etapas do pipeline de ciência de dados:\n",
    "\n",
    "1. Análise Exploratória dos Dados: Análise do contexto e das variáveis, identificação de tendências, padrões sazonais e diferenças entre lojas, categorias e preços.\n",
    "\n",
    "2. Análise Descritiva\n",
    "\n",
    "3. Modelagem Preditiva:\n",
    "\n",
    "    * Utilize pelo menos 4 modelos diferentes para previsão dos dois indicadores (ex.: regressão linear, ARIMA/Prophet, Random Forest, XGBoost, LSTM, etc).\n",
    "    * Avalie os modelos com métricas apropriadas: RMSE, MAE, MAPE.\n",
    "    * Explique as diferenças entre os modelos e suas vantagens/desvantagens.\n",
    "    * Use validação apropriada (ex.: backtesting)\n",
    "    * Pode apresentar graficamente as curvas e intervalos de confiança.\n",
    "\n",
    "4. Interpretação e Insights: Destaque quais variáveis mais influenciam os resultados. Mostre comparações entre os modelos e recomende qual usar.\n",
    "\n",
    "### Entrega Esperada\n",
    "\n",
    "1. Notebook \n",
    "Com todas as etapas comentadas: análise, preparação, modelagem e previsão.\n",
    "\n",
    "2. Apresentação executiva (PDF ou slides)\n"
   ]
  },
  {
   "cell_type": "code",
   "execution_count": 39,
   "id": "b3f31cf2",
   "metadata": {},
   "outputs": [],
   "source": [
    "# Imports\n",
    "\n",
    "import pandas as pd\n",
    "import numpy as np\n",
    "import matplotlib.pyplot as plt\n",
    "import seaborn as sns\n",
    "import math"
   ]
  },
  {
   "cell_type": "code",
   "execution_count": 40,
   "id": "5b4afe5b",
   "metadata": {},
   "outputs": [],
   "source": [
    "# Auxiliaries Functions\n",
    "\n",
    "\n",
    "def sturges_bins(x):\n",
    "    x = np.asarray(x)\n",
    "    x = x[~np.isnan(x)]  # remove NaNs\n",
    "    n = len(x)\n",
    "    if n <= 1:\n",
    "        return 1, np.inf  # caso degenerado\n",
    "\n",
    "    k = math.ceil(math.log2(n)) + 1\n",
    "    data_range = x.max() - x.min()\n",
    "    h = data_range / k if data_range > 0 else np.inf\n",
    "    return k, h"
   ]
  },
  {
   "cell_type": "code",
   "execution_count": 41,
   "id": "90e5a788",
   "metadata": {},
   "outputs": [],
   "source": [
    "# Data Reading\n",
    "\n",
    "df = pd.read_excel(\"../data/Desafio Inteligência (Cientista de Dados).xlsx\")"
   ]
  },
  {
   "cell_type": "code",
   "execution_count": null,
   "id": "98bf3cfc",
   "metadata": {},
   "outputs": [
    {
     "data": {
      "application/vnd.microsoft.datawrangler.viewer.v0+json": {
       "columns": [
        {
         "name": "index",
         "rawType": "int64",
         "type": "integer"
        },
        {
         "name": "id_contrato",
         "rawType": "object",
         "type": "string"
        },
        {
         "name": "data_inicio_locacao",
         "rawType": "datetime64[ns]",
         "type": "datetime"
        },
        {
         "name": "duracao_locacao",
         "rawType": "int64",
         "type": "integer"
        },
        {
         "name": "id_loja",
         "rawType": "object",
         "type": "string"
        },
        {
         "name": "cidade",
         "rawType": "object",
         "type": "string"
        },
        {
         "name": "estado",
         "rawType": "object",
         "type": "string"
        },
        {
         "name": "dias_antecedencia",
         "rawType": "int64",
         "type": "integer"
        },
        {
         "name": "categoria_veiculo",
         "rawType": "object",
         "type": "string"
        },
        {
         "name": "diaria_media",
         "rawType": "float64",
         "type": "float"
        },
        {
         "name": "valor_total_locacao",
         "rawType": "float64",
         "type": "float"
        },
        {
         "name": "Unnamed: 10",
         "rawType": "float64",
         "type": "float"
        },
        {
         "name": "Unnamed: 11",
         "rawType": "float64",
         "type": "float"
        },
        {
         "name": "Unnamed: 12",
         "rawType": "float64",
         "type": "float"
        },
        {
         "name": "Unnamed: 13",
         "rawType": "float64",
         "type": "float"
        },
        {
         "name": "Unnamed: 14",
         "rawType": "object",
         "type": "unknown"
        },
        {
         "name": "Unnamed: 15",
         "rawType": "float64",
         "type": "float"
        }
       ],
       "ref": "2b8f4b8c-ffa5-4b6e-bd4b-e9d670606d7a",
       "rows": [
        [
         "0",
         "CTR0000001",
         "2022-01-27 00:00:00",
         "8",
         "LJ_01",
         "Recife",
         "DF",
         "13",
         "EconÃ´mico",
         "91.22",
         "729.76",
         null,
         null,
         null,
         null,
         null,
         null
        ],
        [
         "1",
         "CTR0000002",
         "2022-01-31 00:00:00",
         "9",
         "LJ_01",
         "Curitiba",
         "MG",
         "9",
         "IntermediÃ¡rio",
         "78.7",
         "708.3",
         null,
         null,
         null,
         null,
         null,
         null
        ],
        [
         "2",
         "CTR0000003",
         "2022-01-10 00:00:00",
         "7",
         "LJ_01",
         "Rio de Janeiro",
         "MG",
         "16",
         "SUV",
         "143.14",
         "1001.98",
         null,
         null,
         null,
         null,
         null,
         null
        ],
        [
         "3",
         "CTR0000004",
         "2022-01-28 00:00:00",
         "7",
         "LJ_01",
         "Belo Horizonte",
         "RS",
         "4",
         "IntermediÃ¡rio",
         "135.86",
         "951.02",
         null,
         null,
         null,
         null,
         null,
         null
        ],
        [
         "4",
         "CTR0000005",
         "2022-01-28 00:00:00",
         "9",
         "LJ_01",
         "Porto Alegre",
         "PE",
         "9",
         "IntermediÃ¡rio",
         "104.02",
         "936.18",
         null,
         null,
         null,
         null,
         null,
         null
        ]
       ],
       "shape": {
        "columns": 16,
        "rows": 5
       }
      },
      "text/html": [
       "<div>\n",
       "<style scoped>\n",
       "    .dataframe tbody tr th:only-of-type {\n",
       "        vertical-align: middle;\n",
       "    }\n",
       "\n",
       "    .dataframe tbody tr th {\n",
       "        vertical-align: top;\n",
       "    }\n",
       "\n",
       "    .dataframe thead th {\n",
       "        text-align: right;\n",
       "    }\n",
       "</style>\n",
       "<table border=\"1\" class=\"dataframe\">\n",
       "  <thead>\n",
       "    <tr style=\"text-align: right;\">\n",
       "      <th></th>\n",
       "      <th>id_contrato</th>\n",
       "      <th>data_inicio_locacao</th>\n",
       "      <th>duracao_locacao</th>\n",
       "      <th>id_loja</th>\n",
       "      <th>cidade</th>\n",
       "      <th>estado</th>\n",
       "      <th>dias_antecedencia</th>\n",
       "      <th>categoria_veiculo</th>\n",
       "      <th>diaria_media</th>\n",
       "      <th>valor_total_locacao</th>\n",
       "      <th>Unnamed: 10</th>\n",
       "      <th>Unnamed: 11</th>\n",
       "      <th>Unnamed: 12</th>\n",
       "      <th>Unnamed: 13</th>\n",
       "      <th>Unnamed: 14</th>\n",
       "      <th>Unnamed: 15</th>\n",
       "    </tr>\n",
       "  </thead>\n",
       "  <tbody>\n",
       "    <tr>\n",
       "      <th>0</th>\n",
       "      <td>CTR0000001</td>\n",
       "      <td>2022-01-27</td>\n",
       "      <td>8</td>\n",
       "      <td>LJ_01</td>\n",
       "      <td>Recife</td>\n",
       "      <td>DF</td>\n",
       "      <td>13</td>\n",
       "      <td>EconÃ´mico</td>\n",
       "      <td>91.22</td>\n",
       "      <td>729.76</td>\n",
       "      <td>NaN</td>\n",
       "      <td>NaN</td>\n",
       "      <td>NaN</td>\n",
       "      <td>NaN</td>\n",
       "      <td>NaN</td>\n",
       "      <td>NaN</td>\n",
       "    </tr>\n",
       "    <tr>\n",
       "      <th>1</th>\n",
       "      <td>CTR0000002</td>\n",
       "      <td>2022-01-31</td>\n",
       "      <td>9</td>\n",
       "      <td>LJ_01</td>\n",
       "      <td>Curitiba</td>\n",
       "      <td>MG</td>\n",
       "      <td>9</td>\n",
       "      <td>IntermediÃ¡rio</td>\n",
       "      <td>78.70</td>\n",
       "      <td>708.30</td>\n",
       "      <td>NaN</td>\n",
       "      <td>NaN</td>\n",
       "      <td>NaN</td>\n",
       "      <td>NaN</td>\n",
       "      <td>NaN</td>\n",
       "      <td>NaN</td>\n",
       "    </tr>\n",
       "    <tr>\n",
       "      <th>2</th>\n",
       "      <td>CTR0000003</td>\n",
       "      <td>2022-01-10</td>\n",
       "      <td>7</td>\n",
       "      <td>LJ_01</td>\n",
       "      <td>Rio de Janeiro</td>\n",
       "      <td>MG</td>\n",
       "      <td>16</td>\n",
       "      <td>SUV</td>\n",
       "      <td>143.14</td>\n",
       "      <td>1001.98</td>\n",
       "      <td>NaN</td>\n",
       "      <td>NaN</td>\n",
       "      <td>NaN</td>\n",
       "      <td>NaN</td>\n",
       "      <td>NaN</td>\n",
       "      <td>NaN</td>\n",
       "    </tr>\n",
       "    <tr>\n",
       "      <th>3</th>\n",
       "      <td>CTR0000004</td>\n",
       "      <td>2022-01-28</td>\n",
       "      <td>7</td>\n",
       "      <td>LJ_01</td>\n",
       "      <td>Belo Horizonte</td>\n",
       "      <td>RS</td>\n",
       "      <td>4</td>\n",
       "      <td>IntermediÃ¡rio</td>\n",
       "      <td>135.86</td>\n",
       "      <td>951.02</td>\n",
       "      <td>NaN</td>\n",
       "      <td>NaN</td>\n",
       "      <td>NaN</td>\n",
       "      <td>NaN</td>\n",
       "      <td>NaN</td>\n",
       "      <td>NaN</td>\n",
       "    </tr>\n",
       "    <tr>\n",
       "      <th>4</th>\n",
       "      <td>CTR0000005</td>\n",
       "      <td>2022-01-28</td>\n",
       "      <td>9</td>\n",
       "      <td>LJ_01</td>\n",
       "      <td>Porto Alegre</td>\n",
       "      <td>PE</td>\n",
       "      <td>9</td>\n",
       "      <td>IntermediÃ¡rio</td>\n",
       "      <td>104.02</td>\n",
       "      <td>936.18</td>\n",
       "      <td>NaN</td>\n",
       "      <td>NaN</td>\n",
       "      <td>NaN</td>\n",
       "      <td>NaN</td>\n",
       "      <td>NaN</td>\n",
       "      <td>NaN</td>\n",
       "    </tr>\n",
       "  </tbody>\n",
       "</table>\n",
       "</div>"
      ],
      "text/plain": [
       "  id_contrato data_inicio_locacao  duracao_locacao id_loja          cidade  \\\n",
       "0  CTR0000001          2022-01-27                8   LJ_01          Recife   \n",
       "1  CTR0000002          2022-01-31                9   LJ_01        Curitiba   \n",
       "2  CTR0000003          2022-01-10                7   LJ_01  Rio de Janeiro   \n",
       "3  CTR0000004          2022-01-28                7   LJ_01  Belo Horizonte   \n",
       "4  CTR0000005          2022-01-28                9   LJ_01    Porto Alegre   \n",
       "\n",
       "  estado  dias_antecedencia categoria_veiculo  diaria_media  \\\n",
       "0     DF                 13        EconÃ´mico         91.22   \n",
       "1     MG                  9    IntermediÃ¡rio         78.70   \n",
       "2     MG                 16               SUV        143.14   \n",
       "3     RS                  4    IntermediÃ¡rio        135.86   \n",
       "4     PE                  9    IntermediÃ¡rio        104.02   \n",
       "\n",
       "   valor_total_locacao  Unnamed: 10  Unnamed: 11  Unnamed: 12  Unnamed: 13  \\\n",
       "0               729.76          NaN          NaN          NaN          NaN   \n",
       "1               708.30          NaN          NaN          NaN          NaN   \n",
       "2              1001.98          NaN          NaN          NaN          NaN   \n",
       "3               951.02          NaN          NaN          NaN          NaN   \n",
       "4               936.18          NaN          NaN          NaN          NaN   \n",
       "\n",
       "  Unnamed: 14  Unnamed: 15  \n",
       "0         NaN          NaN  \n",
       "1         NaN          NaN  \n",
       "2         NaN          NaN  \n",
       "3         NaN          NaN  \n",
       "4         NaN          NaN  "
      ]
     },
     "metadata": {},
     "output_type": "display_data"
    },
    {
     "name": "stdout",
     "output_type": "stream",
     "text": [
      "<class 'pandas.core.frame.DataFrame'>\n",
      "RangeIndex: 140249 entries, 0 to 140248\n",
      "Data columns (total 16 columns):\n",
      " #   Column               Non-Null Count   Dtype         \n",
      "---  ------               --------------   -----         \n",
      " 0   id_contrato          140249 non-null  object        \n",
      " 1   data_inicio_locacao  140249 non-null  datetime64[ns]\n",
      " 2   duracao_locacao      140249 non-null  int64         \n",
      " 3   id_loja              140249 non-null  object        \n",
      " 4   cidade               140249 non-null  object        \n",
      " 5   estado               140249 non-null  object        \n",
      " 6   dias_antecedencia    140249 non-null  int64         \n",
      " 7   categoria_veiculo    140249 non-null  object        \n",
      " 8   diaria_media         140249 non-null  float64       \n",
      " 9   valor_total_locacao  140249 non-null  float64       \n",
      " 10  Unnamed: 10          0 non-null       float64       \n",
      " 11  Unnamed: 11          0 non-null       float64       \n",
      " 12  Unnamed: 12          0 non-null       float64       \n",
      " 13  Unnamed: 13          0 non-null       float64       \n",
      " 14  Unnamed: 14          10 non-null      object        \n",
      " 15  Unnamed: 15          10 non-null      float64       \n",
      "dtypes: datetime64[ns](1), float64(7), int64(2), object(6)\n",
      "memory usage: 17.1+ MB\n"
     ]
    },
    {
     "data": {
      "text/plain": [
       "None"
      ]
     },
     "metadata": {},
     "output_type": "display_data"
    },
    {
     "data": {
      "application/vnd.microsoft.datawrangler.viewer.v0+json": {
       "columns": [
        {
         "name": "index",
         "rawType": "object",
         "type": "string"
        },
        {
         "name": "data_inicio_locacao",
         "rawType": "object",
         "type": "unknown"
        },
        {
         "name": "duracao_locacao",
         "rawType": "float64",
         "type": "float"
        },
        {
         "name": "dias_antecedencia",
         "rawType": "float64",
         "type": "float"
        },
        {
         "name": "diaria_media",
         "rawType": "float64",
         "type": "float"
        },
        {
         "name": "valor_total_locacao",
         "rawType": "float64",
         "type": "float"
        },
        {
         "name": "Unnamed: 10",
         "rawType": "float64",
         "type": "float"
        },
        {
         "name": "Unnamed: 11",
         "rawType": "float64",
         "type": "float"
        },
        {
         "name": "Unnamed: 12",
         "rawType": "float64",
         "type": "float"
        },
        {
         "name": "Unnamed: 13",
         "rawType": "float64",
         "type": "float"
        },
        {
         "name": "Unnamed: 15",
         "rawType": "float64",
         "type": "float"
        }
       ],
       "ref": "43ee875b-26fb-46d9-aeff-28abcac974b4",
       "rows": [
        [
         "count",
         "140249",
         "140249.0",
         "140249.0",
         "140249.0",
         "140249.0",
         "0.0",
         "0.0",
         "0.0",
         "0.0",
         "10.0"
        ],
        [
         "mean",
         "2023-03-13 18:31:13.553465600",
         "6.347439197427432",
         "15.01928712504189",
         "120.04516110631805",
         "761.9505625708562",
         null,
         null,
         null,
         null,
         "0.1"
        ],
        [
         "min",
         "2022-01-01 00:00:00",
         "1.0",
         "0.0",
         "-5.19",
         "-31.14",
         null,
         null,
         null,
         null,
         "0.02"
        ],
        [
         "25%",
         "2022-08-01 00:00:00",
         "5.0",
         "7.0",
         "99.75",
         "516.8",
         null,
         null,
         null,
         null,
         "0.05500000000000001"
        ],
        [
         "50%",
         "2023-02-24 00:00:00",
         "6.0",
         "15.0",
         "120.14",
         "728.56",
         null,
         null,
         null,
         null,
         "0.09"
        ],
        [
         "75%",
         "2023-11-03 00:00:00",
         "8.0",
         "23.0",
         "140.22",
         "970.74",
         null,
         null,
         null,
         null,
         "0.1175"
        ],
        [
         "max",
         "2024-06-30 00:00:00",
         "16.0",
         "30.0",
         "259.86",
         "2875.8",
         null,
         null,
         null,
         null,
         "0.22"
        ],
        [
         "std",
         null,
         "2.271802357901455",
         "8.943597000231726",
         "30.00245086615049",
         "339.8082771669985",
         null,
         null,
         null,
         null,
         "0.06666666666666668"
        ]
       ],
       "shape": {
        "columns": 10,
        "rows": 8
       }
      },
      "text/html": [
       "<div>\n",
       "<style scoped>\n",
       "    .dataframe tbody tr th:only-of-type {\n",
       "        vertical-align: middle;\n",
       "    }\n",
       "\n",
       "    .dataframe tbody tr th {\n",
       "        vertical-align: top;\n",
       "    }\n",
       "\n",
       "    .dataframe thead th {\n",
       "        text-align: right;\n",
       "    }\n",
       "</style>\n",
       "<table border=\"1\" class=\"dataframe\">\n",
       "  <thead>\n",
       "    <tr style=\"text-align: right;\">\n",
       "      <th></th>\n",
       "      <th>data_inicio_locacao</th>\n",
       "      <th>duracao_locacao</th>\n",
       "      <th>dias_antecedencia</th>\n",
       "      <th>diaria_media</th>\n",
       "      <th>valor_total_locacao</th>\n",
       "      <th>Unnamed: 10</th>\n",
       "      <th>Unnamed: 11</th>\n",
       "      <th>Unnamed: 12</th>\n",
       "      <th>Unnamed: 13</th>\n",
       "      <th>Unnamed: 15</th>\n",
       "    </tr>\n",
       "  </thead>\n",
       "  <tbody>\n",
       "    <tr>\n",
       "      <th>count</th>\n",
       "      <td>140249</td>\n",
       "      <td>140249.000000</td>\n",
       "      <td>140249.000000</td>\n",
       "      <td>140249.000000</td>\n",
       "      <td>140249.000000</td>\n",
       "      <td>0.0</td>\n",
       "      <td>0.0</td>\n",
       "      <td>0.0</td>\n",
       "      <td>0.0</td>\n",
       "      <td>10.000000</td>\n",
       "    </tr>\n",
       "    <tr>\n",
       "      <th>mean</th>\n",
       "      <td>2023-03-13 18:31:13.553465600</td>\n",
       "      <td>6.347439</td>\n",
       "      <td>15.019287</td>\n",
       "      <td>120.045161</td>\n",
       "      <td>761.950563</td>\n",
       "      <td>NaN</td>\n",
       "      <td>NaN</td>\n",
       "      <td>NaN</td>\n",
       "      <td>NaN</td>\n",
       "      <td>0.100000</td>\n",
       "    </tr>\n",
       "    <tr>\n",
       "      <th>min</th>\n",
       "      <td>2022-01-01 00:00:00</td>\n",
       "      <td>1.000000</td>\n",
       "      <td>0.000000</td>\n",
       "      <td>-5.190000</td>\n",
       "      <td>-31.140000</td>\n",
       "      <td>NaN</td>\n",
       "      <td>NaN</td>\n",
       "      <td>NaN</td>\n",
       "      <td>NaN</td>\n",
       "      <td>0.020000</td>\n",
       "    </tr>\n",
       "    <tr>\n",
       "      <th>25%</th>\n",
       "      <td>2022-08-01 00:00:00</td>\n",
       "      <td>5.000000</td>\n",
       "      <td>7.000000</td>\n",
       "      <td>99.750000</td>\n",
       "      <td>516.800000</td>\n",
       "      <td>NaN</td>\n",
       "      <td>NaN</td>\n",
       "      <td>NaN</td>\n",
       "      <td>NaN</td>\n",
       "      <td>0.055000</td>\n",
       "    </tr>\n",
       "    <tr>\n",
       "      <th>50%</th>\n",
       "      <td>2023-02-24 00:00:00</td>\n",
       "      <td>6.000000</td>\n",
       "      <td>15.000000</td>\n",
       "      <td>120.140000</td>\n",
       "      <td>728.560000</td>\n",
       "      <td>NaN</td>\n",
       "      <td>NaN</td>\n",
       "      <td>NaN</td>\n",
       "      <td>NaN</td>\n",
       "      <td>0.090000</td>\n",
       "    </tr>\n",
       "    <tr>\n",
       "      <th>75%</th>\n",
       "      <td>2023-11-03 00:00:00</td>\n",
       "      <td>8.000000</td>\n",
       "      <td>23.000000</td>\n",
       "      <td>140.220000</td>\n",
       "      <td>970.740000</td>\n",
       "      <td>NaN</td>\n",
       "      <td>NaN</td>\n",
       "      <td>NaN</td>\n",
       "      <td>NaN</td>\n",
       "      <td>0.117500</td>\n",
       "    </tr>\n",
       "    <tr>\n",
       "      <th>max</th>\n",
       "      <td>2024-06-30 00:00:00</td>\n",
       "      <td>16.000000</td>\n",
       "      <td>30.000000</td>\n",
       "      <td>259.860000</td>\n",
       "      <td>2875.800000</td>\n",
       "      <td>NaN</td>\n",
       "      <td>NaN</td>\n",
       "      <td>NaN</td>\n",
       "      <td>NaN</td>\n",
       "      <td>0.220000</td>\n",
       "    </tr>\n",
       "    <tr>\n",
       "      <th>std</th>\n",
       "      <td>NaN</td>\n",
       "      <td>2.271802</td>\n",
       "      <td>8.943597</td>\n",
       "      <td>30.002451</td>\n",
       "      <td>339.808277</td>\n",
       "      <td>NaN</td>\n",
       "      <td>NaN</td>\n",
       "      <td>NaN</td>\n",
       "      <td>NaN</td>\n",
       "      <td>0.066667</td>\n",
       "    </tr>\n",
       "  </tbody>\n",
       "</table>\n",
       "</div>"
      ],
      "text/plain": [
       "                 data_inicio_locacao  duracao_locacao  dias_antecedencia  \\\n",
       "count                         140249    140249.000000      140249.000000   \n",
       "mean   2023-03-13 18:31:13.553465600         6.347439          15.019287   \n",
       "min              2022-01-01 00:00:00         1.000000           0.000000   \n",
       "25%              2022-08-01 00:00:00         5.000000           7.000000   \n",
       "50%              2023-02-24 00:00:00         6.000000          15.000000   \n",
       "75%              2023-11-03 00:00:00         8.000000          23.000000   \n",
       "max              2024-06-30 00:00:00        16.000000          30.000000   \n",
       "std                              NaN         2.271802           8.943597   \n",
       "\n",
       "        diaria_media  valor_total_locacao  Unnamed: 10  Unnamed: 11  \\\n",
       "count  140249.000000        140249.000000          0.0          0.0   \n",
       "mean      120.045161           761.950563          NaN          NaN   \n",
       "min        -5.190000           -31.140000          NaN          NaN   \n",
       "25%        99.750000           516.800000          NaN          NaN   \n",
       "50%       120.140000           728.560000          NaN          NaN   \n",
       "75%       140.220000           970.740000          NaN          NaN   \n",
       "max       259.860000          2875.800000          NaN          NaN   \n",
       "std        30.002451           339.808277          NaN          NaN   \n",
       "\n",
       "       Unnamed: 12  Unnamed: 13  Unnamed: 15  \n",
       "count          0.0          0.0    10.000000  \n",
       "mean           NaN          NaN     0.100000  \n",
       "min            NaN          NaN     0.020000  \n",
       "25%            NaN          NaN     0.055000  \n",
       "50%            NaN          NaN     0.090000  \n",
       "75%            NaN          NaN     0.117500  \n",
       "max            NaN          NaN     0.220000  \n",
       "std            NaN          NaN     0.066667  "
      ]
     },
     "metadata": {},
     "output_type": "display_data"
    }
   ],
   "source": [
    "# Display Dataframe\n",
    "\n",
    "display(df.head())\n",
    "display(df.info())\n",
    "display(df.describe())"
   ]
  },
  {
   "cell_type": "code",
   "execution_count": 43,
   "id": "fdc64ba5",
   "metadata": {},
   "outputs": [],
   "source": [
    "# Data Processing\n",
    "\n",
    "df.categoria_veiculo = df.categoria_veiculo.replace(\n",
    "    {\"IntermediÃ¡rio\": \"Intermediário\", \"EconÃ´mico\": \"Econômico\"}\n",
    ")\n",
    "df.cidade = df.cidade.replace({\"BrasÃ­lia\": \"Brasília\", \"SÃ£o Paulo\": \"São Paulo\"})\n",
    "\n",
    "for column_name in df.columns:\n",
    "    if \"Unnamed\" in column_name:\n",
    "        df.drop(column_name, axis=1, inplace=True)\n",
    "\n",
    "# Column Names\n",
    "\n",
    "numerical_columns = [\n",
    "    \"duracao_locacao\",\n",
    "    \"dias_antecedencia\",\n",
    "    \"diaria_media\",\n",
    "    \"valor_total_locacao\",\n",
    "]\n",
    "categorical_columns = [\n",
    "    \"estado\",\n",
    "    \"cidade\",\n",
    "    \"id_loja\",\n",
    "    \"id_contrato\",\n",
    "    \"categoria_veiculo\",\n",
    "]"
   ]
  },
  {
   "cell_type": "code",
   "execution_count": 44,
   "id": "c9f7b855",
   "metadata": {},
   "outputs": [
    {
     "data": {
      "image/png": "[encoded data removed]",
      "text/plain": [
       "<Figure size 640x480 with 4 Axes>"
      ]
     },
     "metadata": {},
     "output_type": "display_data"
    }
   ],
   "source": [
    "# Plot of Histograms\n",
    "\n",
    "fig, axes = plt.subplots(ncols=2, nrows=2, constrained_layout=True)\n",
    "axes = axes.flatten()\n",
    "\n",
    "for idx, col in enumerate(numerical_columns):\n",
    "    k, h = sturges_bins(df.loc[:, col].values)\n",
    "    sns.histplot(data=df, x=col, ax=axes[idx], bins=k, binwidth=h, linewidth=0.5)\n",
    "    axes[idx].set_title(f\"{col}\")\n",
    "    axes[idx].set_xlabel(\"\")\n",
    "    axes[idx].set_ylabel(\"\")"
   ]
  },
  {
   "cell_type": "code",
   "execution_count": 45,
   "id": "f7d402a8",
   "metadata": {},
   "outputs": [
    {
     "data": {
      "image/png": "[encoded data removed]",
      "text/plain": [
       "<Figure size 640x480 with 4 Axes>"
      ]
     },
     "metadata": {},
     "output_type": "display_data"
    }
   ],
   "source": [
    "# Plot of Bars\n",
    "\n",
    "fig, axes = plt.subplots(ncols=2, nrows=2, constrained_layout=True)\n",
    "axes = axes.flatten()\n",
    "\n",
    "idx = 0\n",
    "for col in categorical_columns:\n",
    "    if col != \"id_contrato\":\n",
    "        sns.countplot(data=df.loc[:, col], ax=axes[idx], linewidth=0.5)\n",
    "        axes[idx].set_title(f\"{col}\")\n",
    "        axes[idx].set_xlabel(\"\")\n",
    "        axes[idx].set_ylabel(\"\")\n",
    "\n",
    "        idx += 1\n"
   ]
  },
  {
   "cell_type": "code",
   "execution_count": 46,
   "id": "1e56eeef",
   "metadata": {},
   "outputs": [
    {
     "data": {
      "image/png": "[encoded data removed]",
      "text/plain": [
       "<Figure size 640x480 with 2 Axes>"
      ]
     },
     "metadata": {},
     "output_type": "display_data"
    }
   ],
   "source": [
    "# Plot of Correlations\n",
    "\n",
    "corr_matrix = df.loc[:, numerical_columns].corr()\n",
    "\n",
    "plt.figure()\n",
    "sns.heatmap(corr_matrix, annot=True, cmap=\"coolwarm\", fmt=\".5f\", linewidths=0.5)\n",
    "plt.title(\"Correlation Heatmap\")\n",
    "plt.show()"
   ]
  },
  {
   "cell_type": "code",
   "execution_count": 48,
   "id": "8b10066b",
   "metadata": {},
   "outputs": [
    {
     "data": {
      "text/plain": [
       "Text(0, 0.5, 'Frequência')"
      ]
     },
     "execution_count": 48,
     "metadata": {},
     "output_type": "execute_result"
    },
    {
     "data": {
      "image/png": "[encoded data removed]",
      "text/plain": [
       "<Figure size 640x480 with 1 Axes>"
      ]
     },
     "metadata": {},
     "output_type": "display_data"
    }
   ],
   "source": [
    "# cidades by id_loja\n",
    "\n",
    "plt.figure()\n",
    "sns.countplot(x=\"id_loja\", hue=\"cidade\", data=df, linewidth=0.5)\n",
    "plt.ylabel(\"Frequência\")"
   ]
  },
  {
   "cell_type": "markdown",
   "id": "7a4e3670",
   "metadata": {},
   "source": [
    "### Variáveis Relevantes\n",
    "\n",
    "* Dados Categóricos:\n",
    "    * id_loja\n",
    "    * id_contrato\n",
    "    * categoria_veiculo\n",
    "\n",
    "* Dados Temporais:\n",
    "    * data_inicio_locacao\n",
    "\n",
    "* Dados Numéricos\n",
    "    * duracao_locacao\n",
    "    * dias_antecedencia\n",
    "    * diaria_media\n",
    "    * valor_total_locacao\n",
    "\n",
    "As variáveis estado e cidade foram desconsideradas, devido a inconsistência dos dados."
   ]
  },
  {
   "cell_type": "code",
   "execution_count": 51,
   "id": "2d93337c",
   "metadata": {},
   "outputs": [
    {
     "data": {
      "application/vnd.microsoft.datawrangler.viewer.v0+json": {
       "columns": [
        {
         "name": "index",
         "rawType": "int64",
         "type": "integer"
        },
        {
         "name": "id_contrato",
         "rawType": "object",
         "type": "string"
        },
        {
         "name": "data_inicio_locacao",
         "rawType": "datetime64[ns]",
         "type": "datetime"
        },
        {
         "name": "duracao_locacao",
         "rawType": "int64",
         "type": "integer"
        },
        {
         "name": "id_loja",
         "rawType": "object",
         "type": "string"
        },
        {
         "name": "dias_antecedencia",
         "rawType": "int64",
         "type": "integer"
        },
        {
         "name": "categoria_veiculo",
         "rawType": "object",
         "type": "string"
        },
        {
         "name": "diaria_media",
         "rawType": "float64",
         "type": "float"
        },
        {
         "name": "valor_total_locacao",
         "rawType": "float64",
         "type": "float"
        }
       ],
       "ref": "b5809c1c-77fb-42ef-83ef-fb8dd4304bcb",
       "rows": [
        [
         "0",
         "CTR0000001",
         "2022-01-27 00:00:00",
         "8",
         "LJ_01",
         "13",
         "Econômico",
         "91.22",
         "729.76"
        ],
        [
         "1",
         "CTR0000002",
         "2022-01-31 00:00:00",
         "9",
         "LJ_01",
         "9",
         "Intermediário",
         "78.7",
         "708.3"
        ],
        [
         "2",
         "CTR0000003",
         "2022-01-10 00:00:00",
         "7",
         "LJ_01",
         "16",
         "SUV",
         "143.14",
         "1001.98"
        ],
        [
         "3",
         "CTR0000004",
         "2022-01-28 00:00:00",
         "7",
         "LJ_01",
         "4",
         "Intermediário",
         "135.86",
         "951.02"
        ],
        [
         "4",
         "CTR0000005",
         "2022-01-28 00:00:00",
         "9",
         "LJ_01",
         "9",
         "Intermediário",
         "104.02",
         "936.18"
        ]
       ],
       "shape": {
        "columns": 8,
        "rows": 5
       }
      },
      "text/html": [
       "<div>\n",
       "<style scoped>\n",
       "    .dataframe tbody tr th:only-of-type {\n",
       "        vertical-align: middle;\n",
       "    }\n",
       "\n",
       "    .dataframe tbody tr th {\n",
       "        vertical-align: top;\n",
       "    }\n",
       "\n",
       "    .dataframe thead th {\n",
       "        text-align: right;\n",
       "    }\n",
       "</style>\n",
       "<table border=\"1\" class=\"dataframe\">\n",
       "  <thead>\n",
       "    <tr style=\"text-align: right;\">\n",
       "      <th></th>\n",
       "      <th>id_contrato</th>\n",
       "      <th>data_inicio_locacao</th>\n",
       "      <th>duracao_locacao</th>\n",
       "      <th>id_loja</th>\n",
       "      <th>dias_antecedencia</th>\n",
       "      <th>categoria_veiculo</th>\n",
       "      <th>diaria_media</th>\n",
       "      <th>valor_total_locacao</th>\n",
       "    </tr>\n",
       "  </thead>\n",
       "  <tbody>\n",
       "    <tr>\n",
       "      <th>0</th>\n",
       "      <td>CTR0000001</td>\n",
       "      <td>2022-01-27</td>\n",
       "      <td>8</td>\n",
       "      <td>LJ_01</td>\n",
       "      <td>13</td>\n",
       "      <td>Econômico</td>\n",
       "      <td>91.22</td>\n",
       "      <td>729.76</td>\n",
       "    </tr>\n",
       "    <tr>\n",
       "      <th>1</th>\n",
       "      <td>CTR0000002</td>\n",
       "      <td>2022-01-31</td>\n",
       "      <td>9</td>\n",
       "      <td>LJ_01</td>\n",
       "      <td>9</td>\n",
       "      <td>Intermediário</td>\n",
       "      <td>78.70</td>\n",
       "      <td>708.30</td>\n",
       "    </tr>\n",
       "    <tr>\n",
       "      <th>2</th>\n",
       "      <td>CTR0000003</td>\n",
       "      <td>2022-01-10</td>\n",
       "      <td>7</td>\n",
       "      <td>LJ_01</td>\n",
       "      <td>16</td>\n",
       "      <td>SUV</td>\n",
       "      <td>143.14</td>\n",
       "      <td>1001.98</td>\n",
       "    </tr>\n",
       "    <tr>\n",
       "      <th>3</th>\n",
       "      <td>CTR0000004</td>\n",
       "      <td>2022-01-28</td>\n",
       "      <td>7</td>\n",
       "      <td>LJ_01</td>\n",
       "      <td>4</td>\n",
       "      <td>Intermediário</td>\n",
       "      <td>135.86</td>\n",
       "      <td>951.02</td>\n",
       "    </tr>\n",
       "    <tr>\n",
       "      <th>4</th>\n",
       "      <td>CTR0000005</td>\n",
       "      <td>2022-01-28</td>\n",
       "      <td>9</td>\n",
       "      <td>LJ_01</td>\n",
       "      <td>9</td>\n",
       "      <td>Intermediário</td>\n",
       "      <td>104.02</td>\n",
       "      <td>936.18</td>\n",
       "    </tr>\n",
       "  </tbody>\n",
       "</table>\n",
       "</div>"
      ],
      "text/plain": [
       "  id_contrato data_inicio_locacao  duracao_locacao id_loja  dias_antecedencia  \\\n",
       "0  CTR0000001          2022-01-27                8   LJ_01                 13   \n",
       "1  CTR0000002          2022-01-31                9   LJ_01                  9   \n",
       "2  CTR0000003          2022-01-10                7   LJ_01                 16   \n",
       "3  CTR0000004          2022-01-28                7   LJ_01                  4   \n",
       "4  CTR0000005          2022-01-28                9   LJ_01                  9   \n",
       "\n",
       "  categoria_veiculo  diaria_media  valor_total_locacao  \n",
       "0         Econômico         91.22               729.76  \n",
       "1     Intermediário         78.70               708.30  \n",
       "2               SUV        143.14              1001.98  \n",
       "3     Intermediário        135.86               951.02  \n",
       "4     Intermediário        104.02               936.18  "
      ]
     },
     "metadata": {},
     "output_type": "display_data"
    }
   ],
   "source": [
    "# Export Data\n",
    "\n",
    "df.drop([\"cidade\", \"estado\"], axis=1, inplace=True)\n",
    "display(df.head())\n",
    "df.to_excel(\"../data/edited_dataset.xlsx\")"
   ]
  },
  {
   "cell_type": "code",
   "execution_count": 60,
   "id": "82f54650",
   "metadata": {},
   "outputs": [
    {
     "name": "stdout",
     "output_type": "stream",
     "text": [
      "Iniciando o dashboard Streamlit em http://localhost:8501\n"
     ]
    }
   ],
   "source": [
    "import subprocess\n",
    "import os\n",
    "\n",
    "\n",
    "def run_streamlit_dashboard(script_path):\n",
    "    try:\n",
    "        script_dir = os.path.dirname(script_path)\n",
    "        script_name = os.path.basename(script_path)\n",
    "\n",
    "        print(f\"Iniciando o dashboard Streamlit em http://localhost:8501\")\n",
    "\n",
    "        command = [\"streamlit\", \"run\", script_name]\n",
    "        process = subprocess.Popen(\n",
    "            command,\n",
    "            cwd=script_dir,\n",
    "            stdout=subprocess.PIPE,\n",
    "            stderr=subprocess.PIPE,\n",
    "            text=True,\n",
    "        )\n",
    "\n",
    "        return process\n",
    "\n",
    "    except FileNotFoundError:\n",
    "        print(\n",
    "            \"Erro: Streamlit não encontrado. Certifique-se de que está instalado e no PATH.\"\n",
    "        )\n",
    "    except Exception as e:\n",
    "        print(f\"Ocorreu um erro: {e}\")\n",
    "\n",
    "\n",
    "dashboard_path = \"../src/dashboard.py\"\n",
    "streamlit_process = run_streamlit_dashboard(dashboard_path)"
   ]
  },
  {
   "cell_type": "code",
   "execution_count": 59,
   "id": "c4499c11",
   "metadata": {},
   "outputs": [],
   "source": [
    "streamlit_process.terminate()"
   ]
  }
 ],
 "metadata": {
  "kernelspec": {
   "display_name": "base",
   "language": "python",
   "name": "python3"
  },
  "language_info": {
   "codemirror_mode": {
    "name": "ipython",
    "version": 3
   },
   "file_extension": ".py",
   "mimetype": "text/x-python",
   "name": "python",
   "nbconvert_exporter": "python",
   "pygments_lexer": "ipython3",
   "version": "3.12.7"
  }
 },
 "nbformat": 4,
 "nbformat_minor": 5
}
