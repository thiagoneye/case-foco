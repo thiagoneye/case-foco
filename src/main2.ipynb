{
 "cells": [
  {
   "cell_type": "code",
   "execution_count": 8,
   "id": "69439e5d",
   "metadata": {},
   "outputs": [],
   "source": [
    "# Imports\n",
    "\n",
    "import pandas as pd\n",
    "import numpy as np\n",
    "import math\n",
    "\n",
    "import matplotlib\n",
    "import matplotlib.pyplot as plt\n",
    "import matplotlib.dates as mdates\n",
    "import seaborn as sns\n",
    "\n",
    "from matplotlib.ticker import MultipleLocator\n",
    "import locale\n",
    "\n",
    "from statsmodels.tsa.seasonal import MSTL"
   ]
  },
  {
   "cell_type": "markdown",
   "id": "982d9b0c",
   "metadata": {},
   "source": [
    "### Leitura dos Dados"
   ]
  },
  {
   "cell_type": "code",
   "execution_count": 9,
   "id": "1252a799",
   "metadata": {},
   "outputs": [],
   "source": [
    "df = pd.read_excel(\"../data/Desafio Inteligência (Cientista de Dados).xlsx\")"
   ]
  },
  {
   "cell_type": "markdown",
   "id": "e0b1a4a5",
   "metadata": {},
   "source": [
    "### Limpeza dos Dados"
   ]
  },
  {
   "cell_type": "code",
   "execution_count": 10,
   "id": "7caca112",
   "metadata": {},
   "outputs": [],
   "source": [
    "df.categoria_veiculo = df.categoria_veiculo.replace(\n",
    "    {\"IntermediÃ¡rio\": \"Intermediário\", \"EconÃ´mico\": \"Econômico\"}\n",
    ")\n",
    "\n",
    "for column_name in df.columns:\n",
    "    if \"Unnamed\" in column_name:\n",
    "        df.drop(column_name, axis=1, inplace=True)\n",
    "\n",
    "df.drop([\"cidade\", \"estado\"], axis=1, inplace=True)\n",
    "\n",
    "df.id_loja = df.id_loja.str.replace(\"LJ_\", \"Loja \")\n",
    "\n",
    "rename_columns = {\n",
    "    \"data_inicio_locacao\": \"Data de Início da Locação\",\n",
    "    \"duracao_locacao\": \"Duração da Locação\",\n",
    "    \"dias_antecedencia\": \"Dias de Antecedência\",\n",
    "    \"diaria_media\": \"Diária Média\",\n",
    "    \"valor_total_locacao\": \"Valor Total da Locação\",\n",
    "    \"id_loja\": \"ID da Loja\",\n",
    "    \"id_contrato\": \"ID do Contrato\",\n",
    "    \"categoria_veiculo\": \"Categoria do Veículo\",\n",
    "}\n",
    "\n",
    "df.rename(columns=rename_columns, inplace=True)\n",
    "\n",
    "numerical_columns = [\n",
    "    \"Duração da Locação\",\n",
    "    \"Dias de Antecedência\",\n",
    "    \"Diária Média\",\n",
    "    \"Valor Total da Locação\",\n",
    "]\n",
    "categorical_columns = [\"ID da Loja\", \"ID do Contrato\", \"Categoria do Veículo\"]"
   ]
  },
  {
   "cell_type": "markdown",
   "id": "56a5735b",
   "metadata": {},
   "source": [
    "### Estatísticas Gerais\n",
    "\n",
    "1. Qual a duração média de uma locação?\n",
    "R: 6 dias\n",
    "\n",
    "2. Qual o valor médio arrecadado por contrato?\n",
    "R$ 761.95\n",
    "\n",
    "3. Com quantos dias de antecedência, em média, os clientes reservam?\n",
    "R: 15 dias\n"
   ]
  },
  {
   "cell_type": "code",
   "execution_count": 11,
   "id": "262b82fa",
   "metadata": {},
   "outputs": [
    {
     "data": {
      "application/vnd.microsoft.datawrangler.viewer.v0+json": {
       "columns": [
        {
         "name": "index",
         "rawType": "int64",
         "type": "integer"
        },
        {
         "name": "ID do Contrato",
         "rawType": "object",
         "type": "string"
        },
        {
         "name": "Data de Início da Locação",
         "rawType": "datetime64[ns]",
         "type": "datetime"
        },
        {
         "name": "Duração da Locação",
         "rawType": "int64",
         "type": "integer"
        },
        {
         "name": "ID da Loja",
         "rawType": "object",
         "type": "string"
        },
        {
         "name": "Dias de Antecedência",
         "rawType": "int64",
         "type": "integer"
        },
        {
         "name": "Categoria do Veículo",
         "rawType": "object",
         "type": "string"
        },
        {
         "name": "Diária Média",
         "rawType": "float64",
         "type": "float"
        },
        {
         "name": "Valor Total da Locação",
         "rawType": "float64",
         "type": "float"
        }
       ],
       "ref": "1d594d79-6707-4588-9aae-655a6411de92",
       "rows": [
        [
         "0",
         "CTR0000001",
         "2022-01-27 00:00:00",
         "8",
         "Loja 01",
         "13",
         "Econômico",
         "91.22",
         "729.76"
        ],
        [
         "1",
         "CTR0000002",
         "2022-01-31 00:00:00",
         "9",
         "Loja 01",
         "9",
         "Intermediário",
         "78.7",
         "708.3"
        ],
        [
         "2",
         "CTR0000003",
         "2022-01-10 00:00:00",
         "7",
         "Loja 01",
         "16",
         "SUV",
         "143.14",
         "1001.98"
        ],
        [
         "3",
         "CTR0000004",
         "2022-01-28 00:00:00",
         "7",
         "Loja 01",
         "4",
         "Intermediário",
         "135.86",
         "951.02"
        ],
        [
         "4",
         "CTR0000005",
         "2022-01-28 00:00:00",
         "9",
         "Loja 01",
         "9",
         "Intermediário",
         "104.02",
         "936.18"
        ]
       ],
       "shape": {
        "columns": 8,
        "rows": 5
       }
      },
      "text/html": [
       "<div>\n",
       "<style scoped>\n",
       "    .dataframe tbody tr th:only-of-type {\n",
       "        vertical-align: middle;\n",
       "    }\n",
       "\n",
       "    .dataframe tbody tr th {\n",
       "        vertical-align: top;\n",
       "    }\n",
       "\n",
       "    .dataframe thead th {\n",
       "        text-align: right;\n",
       "    }\n",
       "</style>\n",
       "<table border=\"1\" class=\"dataframe\">\n",
       "  <thead>\n",
       "    <tr style=\"text-align: right;\">\n",
       "      <th></th>\n",
       "      <th>ID do Contrato</th>\n",
       "      <th>Data de Início da Locação</th>\n",
       "      <th>Duração da Locação</th>\n",
       "      <th>ID da Loja</th>\n",
       "      <th>Dias de Antecedência</th>\n",
       "      <th>Categoria do Veículo</th>\n",
       "      <th>Diária Média</th>\n",
       "      <th>Valor Total da Locação</th>\n",
       "    </tr>\n",
       "  </thead>\n",
       "  <tbody>\n",
       "    <tr>\n",
       "      <th>0</th>\n",
       "      <td>CTR0000001</td>\n",
       "      <td>2022-01-27</td>\n",
       "      <td>8</td>\n",
       "      <td>Loja 01</td>\n",
       "      <td>13</td>\n",
       "      <td>Econômico</td>\n",
       "      <td>91.22</td>\n",
       "      <td>729.76</td>\n",
       "    </tr>\n",
       "    <tr>\n",
       "      <th>1</th>\n",
       "      <td>CTR0000002</td>\n",
       "      <td>2022-01-31</td>\n",
       "      <td>9</td>\n",
       "      <td>Loja 01</td>\n",
       "      <td>9</td>\n",
       "      <td>Intermediário</td>\n",
       "      <td>78.70</td>\n",
       "      <td>708.30</td>\n",
       "    </tr>\n",
       "    <tr>\n",
       "      <th>2</th>\n",
       "      <td>CTR0000003</td>\n",
       "      <td>2022-01-10</td>\n",
       "      <td>7</td>\n",
       "      <td>Loja 01</td>\n",
       "      <td>16</td>\n",
       "      <td>SUV</td>\n",
       "      <td>143.14</td>\n",
       "      <td>1001.98</td>\n",
       "    </tr>\n",
       "    <tr>\n",
       "      <th>3</th>\n",
       "      <td>CTR0000004</td>\n",
       "      <td>2022-01-28</td>\n",
       "      <td>7</td>\n",
       "      <td>Loja 01</td>\n",
       "      <td>4</td>\n",
       "      <td>Intermediário</td>\n",
       "      <td>135.86</td>\n",
       "      <td>951.02</td>\n",
       "    </tr>\n",
       "    <tr>\n",
       "      <th>4</th>\n",
       "      <td>CTR0000005</td>\n",
       "      <td>2022-01-28</td>\n",
       "      <td>9</td>\n",
       "      <td>Loja 01</td>\n",
       "      <td>9</td>\n",
       "      <td>Intermediário</td>\n",
       "      <td>104.02</td>\n",
       "      <td>936.18</td>\n",
       "    </tr>\n",
       "  </tbody>\n",
       "</table>\n",
       "</div>"
      ],
      "text/plain": [
       "  ID do Contrato Data de Início da Locação  Duração da Locação ID da Loja  \\\n",
       "0     CTR0000001                2022-01-27                   8    Loja 01   \n",
       "1     CTR0000002                2022-01-31                   9    Loja 01   \n",
       "2     CTR0000003                2022-01-10                   7    Loja 01   \n",
       "3     CTR0000004                2022-01-28                   7    Loja 01   \n",
       "4     CTR0000005                2022-01-28                   9    Loja 01   \n",
       "\n",
       "   Dias de Antecedência Categoria do Veículo  Diária Média  \\\n",
       "0                    13            Econômico         91.22   \n",
       "1                     9        Intermediário         78.70   \n",
       "2                    16                  SUV        143.14   \n",
       "3                     4        Intermediário        135.86   \n",
       "4                     9        Intermediário        104.02   \n",
       "\n",
       "   Valor Total da Locação  \n",
       "0                  729.76  \n",
       "1                  708.30  \n",
       "2                 1001.98  \n",
       "3                  951.02  \n",
       "4                  936.18  "
      ]
     },
     "metadata": {},
     "output_type": "display_data"
    },
    {
     "name": "stdout",
     "output_type": "stream",
     "text": [
      "<class 'pandas.core.frame.DataFrame'>\n",
      "RangeIndex: 140249 entries, 0 to 140248\n",
      "Data columns (total 8 columns):\n",
      " #   Column                     Non-Null Count   Dtype         \n",
      "---  ------                     --------------   -----         \n",
      " 0   ID do Contrato             140249 non-null  object        \n",
      " 1   Data de Início da Locação  140249 non-null  datetime64[ns]\n",
      " 2   Duração da Locação         140249 non-null  int64         \n",
      " 3   ID da Loja                 140249 non-null  object        \n",
      " 4   Dias de Antecedência       140249 non-null  int64         \n",
      " 5   Categoria do Veículo       140249 non-null  object        \n",
      " 6   Diária Média               140249 non-null  float64       \n",
      " 7   Valor Total da Locação     140249 non-null  float64       \n",
      "dtypes: datetime64[ns](1), float64(2), int64(2), object(3)\n",
      "memory usage: 8.6+ MB\n"
     ]
    },
    {
     "data": {
      "text/plain": [
       "None"
      ]
     },
     "metadata": {},
     "output_type": "display_data"
    },
    {
     "data": {
      "application/vnd.microsoft.datawrangler.viewer.v0+json": {
       "columns": [
        {
         "name": "index",
         "rawType": "object",
         "type": "string"
        },
        {
         "name": "Data de Início da Locação",
         "rawType": "object",
         "type": "unknown"
        },
        {
         "name": "Duração da Locação",
         "rawType": "float64",
         "type": "float"
        },
        {
         "name": "Dias de Antecedência",
         "rawType": "float64",
         "type": "float"
        },
        {
         "name": "Diária Média",
         "rawType": "float64",
         "type": "float"
        },
        {
         "name": "Valor Total da Locação",
         "rawType": "float64",
         "type": "float"
        }
       ],
       "ref": "8a30d9f0-1cea-4861-9619-4d87e78aa8e3",
       "rows": [
        [
         "count",
         "140249",
         "140249.0",
         "140249.0",
         "140249.0",
         "140249.0"
        ],
        [
         "mean",
         "2023-03-13 18:31:13.553465600",
         "6.347439197427432",
         "15.01928712504189",
         "120.04516110631805",
         "761.9505625708562"
        ],
        [
         "min",
         "2022-01-01 00:00:00",
         "1.0",
         "0.0",
         "-5.19",
         "-31.14"
        ],
        [
         "25%",
         "2022-08-01 00:00:00",
         "5.0",
         "7.0",
         "99.75",
         "516.8"
        ],
        [
         "50%",
         "2023-02-24 00:00:00",
         "6.0",
         "15.0",
         "120.14",
         "728.56"
        ],
        [
         "75%",
         "2023-11-03 00:00:00",
         "8.0",
         "23.0",
         "140.22",
         "970.74"
        ],
        [
         "max",
         "2024-06-30 00:00:00",
         "16.0",
         "30.0",
         "259.86",
         "2875.8"
        ],
        [
         "std",
         null,
         "2.271802357901455",
         "8.943597000231726",
         "30.00245086615049",
         "339.8082771669985"
        ]
       ],
       "shape": {
        "columns": 5,
        "rows": 8
       }
      },
      "text/html": [
       "<div>\n",
       "<style scoped>\n",
       "    .dataframe tbody tr th:only-of-type {\n",
       "        vertical-align: middle;\n",
       "    }\n",
       "\n",
       "    .dataframe tbody tr th {\n",
       "        vertical-align: top;\n",
       "    }\n",
       "\n",
       "    .dataframe thead th {\n",
       "        text-align: right;\n",
       "    }\n",
       "</style>\n",
       "<table border=\"1\" class=\"dataframe\">\n",
       "  <thead>\n",
       "    <tr style=\"text-align: right;\">\n",
       "      <th></th>\n",
       "      <th>Data de Início da Locação</th>\n",
       "      <th>Duração da Locação</th>\n",
       "      <th>Dias de Antecedência</th>\n",
       "      <th>Diária Média</th>\n",
       "      <th>Valor Total da Locação</th>\n",
       "    </tr>\n",
       "  </thead>\n",
       "  <tbody>\n",
       "    <tr>\n",
       "      <th>count</th>\n",
       "      <td>140249</td>\n",
       "      <td>140249.000000</td>\n",
       "      <td>140249.000000</td>\n",
       "      <td>140249.000000</td>\n",
       "      <td>140249.000000</td>\n",
       "    </tr>\n",
       "    <tr>\n",
       "      <th>mean</th>\n",
       "      <td>2023-03-13 18:31:13.553465600</td>\n",
       "      <td>6.347439</td>\n",
       "      <td>15.019287</td>\n",
       "      <td>120.045161</td>\n",
       "      <td>761.950563</td>\n",
       "    </tr>\n",
       "    <tr>\n",
       "      <th>min</th>\n",
       "      <td>2022-01-01 00:00:00</td>\n",
       "      <td>1.000000</td>\n",
       "      <td>0.000000</td>\n",
       "      <td>-5.190000</td>\n",
       "      <td>-31.140000</td>\n",
       "    </tr>\n",
       "    <tr>\n",
       "      <th>25%</th>\n",
       "      <td>2022-08-01 00:00:00</td>\n",
       "      <td>5.000000</td>\n",
       "      <td>7.000000</td>\n",
       "      <td>99.750000</td>\n",
       "      <td>516.800000</td>\n",
       "    </tr>\n",
       "    <tr>\n",
       "      <th>50%</th>\n",
       "      <td>2023-02-24 00:00:00</td>\n",
       "      <td>6.000000</td>\n",
       "      <td>15.000000</td>\n",
       "      <td>120.140000</td>\n",
       "      <td>728.560000</td>\n",
       "    </tr>\n",
       "    <tr>\n",
       "      <th>75%</th>\n",
       "      <td>2023-11-03 00:00:00</td>\n",
       "      <td>8.000000</td>\n",
       "      <td>23.000000</td>\n",
       "      <td>140.220000</td>\n",
       "      <td>970.740000</td>\n",
       "    </tr>\n",
       "    <tr>\n",
       "      <th>max</th>\n",
       "      <td>2024-06-30 00:00:00</td>\n",
       "      <td>16.000000</td>\n",
       "      <td>30.000000</td>\n",
       "      <td>259.860000</td>\n",
       "      <td>2875.800000</td>\n",
       "    </tr>\n",
       "    <tr>\n",
       "      <th>std</th>\n",
       "      <td>NaN</td>\n",
       "      <td>2.271802</td>\n",
       "      <td>8.943597</td>\n",
       "      <td>30.002451</td>\n",
       "      <td>339.808277</td>\n",
       "    </tr>\n",
       "  </tbody>\n",
       "</table>\n",
       "</div>"
      ],
      "text/plain": [
       "           Data de Início da Locação  Duração da Locação  \\\n",
       "count                         140249       140249.000000   \n",
       "mean   2023-03-13 18:31:13.553465600            6.347439   \n",
       "min              2022-01-01 00:00:00            1.000000   \n",
       "25%              2022-08-01 00:00:00            5.000000   \n",
       "50%              2023-02-24 00:00:00            6.000000   \n",
       "75%              2023-11-03 00:00:00            8.000000   \n",
       "max              2024-06-30 00:00:00           16.000000   \n",
       "std                              NaN            2.271802   \n",
       "\n",
       "       Dias de Antecedência   Diária Média  Valor Total da Locação  \n",
       "count         140249.000000  140249.000000           140249.000000  \n",
       "mean              15.019287     120.045161              761.950563  \n",
       "min                0.000000      -5.190000              -31.140000  \n",
       "25%                7.000000      99.750000              516.800000  \n",
       "50%               15.000000     120.140000              728.560000  \n",
       "75%               23.000000     140.220000              970.740000  \n",
       "max               30.000000     259.860000             2875.800000  \n",
       "std                8.943597      30.002451              339.808277  "
      ]
     },
     "metadata": {},
     "output_type": "display_data"
    }
   ],
   "source": [
    "# Display Dataframe\n",
    "# Visualização das principais estatísticas do conjunto de dados\n",
    "\n",
    "display(df.head())\n",
    "display(df.info())\n",
    "display(df.describe())"
   ]
  },
  {
   "cell_type": "markdown",
   "id": "844e483e",
   "metadata": {},
   "source": [
    "### Histogramas"
   ]
  },
  {
   "cell_type": "code",
   "execution_count": 66,
   "id": "6e2dbe7a",
   "metadata": {},
   "outputs": [
    {
     "name": "stderr",
     "output_type": "stream",
     "text": [
      "/tmp/ipykernel_488894/2659156384.py:41: UserWarning: The figure layout has changed to tight\n",
      "  plt.tight_layout()\n"
     ]
    },
    {
     "data": {
      "image/png": "[encoded data removed]",
      "text/plain": [
       "<Figure size 800x400 with 4 Axes>"
      ]
     },
     "metadata": {},
     "output_type": "display_data"
    }
   ],
   "source": [
    "# Auxiliary Functions\n",
    "\n",
    "\n",
    "def sturges_bins(x):\n",
    "    x = np.asarray(x)\n",
    "    x = x[~np.isnan(x)]\n",
    "    n = len(x)\n",
    "    if n <= 1:\n",
    "        return 1, np.inf\n",
    "\n",
    "    k = math.ceil(math.log2(n)) + 1\n",
    "    data_range = x.max() - x.min()\n",
    "    h = data_range / k if data_range > 0 else np.inf\n",
    "    return k, h\n",
    "\n",
    "\n",
    "def configure_plot(ax, title_text):\n",
    "    ax.tick_params(color=\"#555655\")\n",
    "    ax.spines[\"bottom\"].set_color(\"#555655\")\n",
    "    ax.spines[\"left\"].set_visible(False)\n",
    "    ax.spines[\"right\"].set_visible(False)\n",
    "    ax.spines[\"top\"].set_visible(False)\n",
    "\n",
    "    plt.setp(ax.get_xticklabels(), fontsize=9, color=\"#555655\")\n",
    "    ax.get_yaxis().set_visible(False)\n",
    "\n",
    "    ax.set_xlabel(\"\")\n",
    "    ax.set_ylabel(\"\")\n",
    "    # Título\n",
    "    ax.text(\n",
    "        0.5,\n",
    "        1.1,\n",
    "        title_text,\n",
    "        transform=ax.transAxes,\n",
    "        fontsize=12,\n",
    "        fontweight=\"semibold\",\n",
    "        color=\"#555655\",\n",
    "        ha=\"center\",  # centraliza horizontalmente\n",
    "    )\n",
    "\n",
    "    plt.tight_layout()\n",
    "\n",
    "\n",
    "# Plot\n",
    "\n",
    "fig, axes = plt.subplots(ncols=2, nrows=2, figsize=(8, 4), constrained_layout=True)\n",
    "axes = axes.flatten()\n",
    "\n",
    "for idx, col in enumerate(numerical_columns):\n",
    "    k, h = sturges_bins(df.loc[:, col].values)\n",
    "    sns.histplot(data=df, x=col, ax=axes[idx], bins=k, binwidth=h, linewidth=0.5, color=\"#4A81BF\")\n",
    "\n",
    "    if col == \"Duração da Locação\":\n",
    "        axes[idx].set_xticks(range(0, 14, 2))\n",
    "    elif col == \"Dias de Antecedência\":\n",
    "        axes[idx].set_xticks(range(0, 31, 3))\n",
    "    elif col == \"Diária Média\":\n",
    "        axes[idx].set_xticks(range(0, 251, 30))\n",
    "\n",
    "    configure_plot(ax=axes[idx], title_text=col)\n",
    "\n",
    "plt.savefig(\"../img/results/histograms.png\", dpi=600)"
   ]
  },
  {
   "cell_type": "markdown",
   "id": "27cee70e",
   "metadata": {},
   "source": [
    "### Gráficos de Barra"
   ]
  },
  {
   "cell_type": "code",
   "execution_count": null,
   "id": "c3ba1d79",
   "metadata": {},
   "outputs": [
    {
     "name": "stderr",
     "output_type": "stream",
     "text": [
      "/tmp/ipykernel_488894/1474769750.py:48: UserWarning: The figure layout has changed to tight\n",
      "  plt.tight_layout()\n",
      "/tmp/ipykernel_488894/1474769750.py:48: UserWarning: The figure layout has changed to tight\n",
      "  plt.tight_layout()\n"
     ]
    },
    {
     "data": {
      "image/png": "[encoded data removed]",
      "text/plain": [
       "<Figure size 400x500 with 1 Axes>"
      ]
     },
     "metadata": {},
     "output_type": "display_data"
    },
    {
     "data": {
      "image/png": "[encoded data removed]",
      "text/plain": [
       "<Figure size 400x300 with 1 Axes>"
      ]
     },
     "metadata": {},
     "output_type": "display_data"
    }
   ],
   "source": [
    "# Auxiliary Functions\n",
    "\n",
    "\n",
    "def configure_plot(ax, title_text):\n",
    "    ax.tick_params(color=\"#555655\")\n",
    "    ax.spines[\"left\"].set_color(\"#555655\")\n",
    "    ax.spines[\"left\"].set_visible(False)\n",
    "    ax.spines[\"top\"].set_visible(False)\n",
    "    ax.spines[\"bottom\"].set_visible(False)\n",
    "    ax.spines[\"right\"].set_visible(False)\n",
    "\n",
    "    plt.setp(ax.get_yticklabels(), fontsize=9, color=\"#555655\")\n",
    "    ax.get_xaxis().set_visible(False)\n",
    "    ax.tick_params(left=False)\n",
    "\n",
    "    ax.set_xlabel(\"\")\n",
    "    ax.set_ylabel(\"\")\n",
    "    # Título\n",
    "    ax.text(\n",
    "        0.5,\n",
    "        1.075,\n",
    "        title_text,\n",
    "        transform=ax.transAxes,\n",
    "        fontsize=12,\n",
    "        fontweight=\"semibold\",\n",
    "        color=\"#555655\",\n",
    "        ha=\"center\",\n",
    "    )\n",
    "\n",
    "    for p in ax.patches:\n",
    "        percent = int(p.get_width() * 100)\n",
    "        text = f\"{percent}%\"\n",
    "\n",
    "        x = p.get_width() - 0.0025\n",
    "        y = p.get_y() + p.get_height() / 2\n",
    "\n",
    "        ax.text(\n",
    "            x,\n",
    "            y,\n",
    "            text,\n",
    "            fontweight=\"semibold\",\n",
    "            ha=\"right\",\n",
    "            va=\"center\",\n",
    "            fontsize=9,\n",
    "            color=\"white\",\n",
    "        )\n",
    "\n",
    "    plt.tight_layout()\n",
    "\n",
    "\n",
    "# Plot\n",
    "\n",
    "for col in categorical_columns:\n",
    "    if col != \"ID do Contrato\":\n",
    "        if col == \"ID da Loja\":\n",
    "            title_text = \"Percentual de Contratos \\npor Loja\"\n",
    "            file_name = \"store\"\n",
    "            fig, ax = plt.subplots(figsize=(4, 5), constrained_layout=True)\n",
    "        else:\n",
    "            title_text = \"Percentual de Contratos \\npor \" + col\n",
    "            file_name = \"vehicle_category\"\n",
    "            fig, ax = plt.subplots(figsize=(4, 3), constrained_layout=True)\n",
    "\n",
    "        rel_freq = df[col].value_counts(normalize=True).reset_index()\n",
    "        rel_freq.columns = [col, \"percent\"]\n",
    "\n",
    "        order = rel_freq[col]\n",
    "\n",
    "        sns.barplot(\n",
    "            data=rel_freq,\n",
    "            y=col,\n",
    "            x=\"percent\",\n",
    "            order=order,\n",
    "            ax=ax,\n",
    "            linewidth=1,\n",
    "            color=\"#4A81BF\",\n",
    "        )\n",
    "\n",
    "        configure_plot(ax=ax, title_text=title_text)\n",
    "\n",
    "        plt.savefig(f\"../img/results/contracts_by_{file_name}.png\", dpi=300)"
   ]
  },
  {
   "cell_type": "markdown",
   "id": "4666de31",
   "metadata": {},
   "source": [
    "### Análise Temporal"
   ]
  },
  {
   "cell_type": "code",
   "execution_count": null,
   "id": "c0e6d1e2",
   "metadata": {},
   "outputs": [],
   "source": []
  }
 ],
 "metadata": {
  "kernelspec": {
   "display_name": "base",
   "language": "python",
   "name": "python3"
  },
  "language_info": {
   "codemirror_mode": {
    "name": "ipython",
    "version": 3
   },
   "file_extension": ".py",
   "mimetype": "text/x-python",
   "name": "python",
   "nbconvert_exporter": "python",
   "pygments_lexer": "ipython3",
   "version": "3.12.7"
  }
 },
 "nbformat": 4,
 "nbformat_minor": 5
}
